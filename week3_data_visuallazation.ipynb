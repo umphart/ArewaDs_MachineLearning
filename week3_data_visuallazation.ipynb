{
 "cells": [
  {
   "cell_type": "markdown",
   "id": "f943bea8",
   "metadata": {},
   "source": []
  },
  {
   "cell_type": "code",
   "execution_count": null,
   "id": "16f5d1fb",
   "metadata": {},
   "outputs": [],
   "source": [
    "import pandas as pd\n",
    "import matplotlib.pyplot as plt\n",
    "import seaborn as sns"
   ]
  },
  {
   "cell_type": "code",
   "execution_count": null,
   "id": "3c2bd44a",
   "metadata": {},
   "outputs": [],
   "source": [
    "df = pd.read_csv(\"bird.csv\")\n",
    "snow_geese_df = df[df['species'] == 'Snow Goose']\n",
    "\n",
    "print(snow_geese_df.head())"
   ]
  },
  {
   "cell_type": "code",
   "execution_count": null,
   "id": "b58148cc",
   "metadata": {},
   "outputs": [],
   "source": [
    "# Group by date and sum counts\n",
    "trend = snow_geese_df.groupby('date')['count'].sum().reset_index()\n",
    "\n",
    "# Plot\n",
    "plt.figure(figsize=(10,5))\n",
    "sns.lineplot(data=trend, x='date', y='count')\n",
    "plt.title(\"Snow Geese Count Over Time\")\n",
    "plt.xlabel(\"Date\")\n",
    "plt.ylabel(\"Count\")\n",
    "plt.xticks(rotation=45)\n",
    "plt.tight_layout()\n",
    "plt.show()\n"
   ]
  },
  {
   "cell_type": "code",
   "execution_count": null,
   "id": "5b6a776a",
   "metadata": {},
   "outputs": [],
   "source": [
    "plt.figure(figsize=(10,6))\n",
    "sns.scatterplot(data=snow_geese_df, x='longitude', y='latitude', size='count', hue='count', palette='cool', alpha=0.6)\n",
    "plt.title(\"Snow Geese Sighting Locations\")\n",
    "plt.xlabel(\"Longitude\")\n",
    "plt.ylabel(\"Latitude\")\n",
    "plt.legend(title='Count', loc='upper right')\n",
    "plt.show()\n"
   ]
  },
  {
   "cell_type": "code",
   "execution_count": null,
   "id": "4190bc38",
   "metadata": {},
   "outputs": [],
   "source": [
    "top_locations = snow_geese_df.groupby('location')['count'].sum().nlargest(10).reset_index()\n",
    "\n",
    "plt.figure(figsize=(10,5))\n",
    "sns.barplot(data=top_locations, x='count', y='location', palette='viridis')\n",
    "plt.title(\"Top 10 Locations for Snow Geese Sightings\")\n",
    "plt.xlabel(\"Total Count\")\n",
    "plt.ylabel(\"Location\")\n",
    "plt.tight_layout()\n",
    "plt.show()\n"
   ]
  }
 ],
 "metadata": {
  "kernelspec": {
   "display_name": "Python 3",
   "language": "python",
   "name": "python3"
  },
  "language_info": {
   "name": "python",
   "version": "3.13.2"
  }
 },
 "nbformat": 4,
 "nbformat_minor": 5
}
